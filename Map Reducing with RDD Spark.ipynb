{
 "cells": [
  {
   "cell_type": "code",
   "execution_count": 2,
   "metadata": {},
   "outputs": [],
   "source": [
    "#Inisialisasi\n",
    "from pyspark.sql import SparkSession\n",
    "spark = SparkSession.builder.getOrCreate()\n",
    "sc = spark.sparkContext"
   ]
  },
  {
   "cell_type": "code",
   "execution_count": 8,
   "metadata": {},
   "outputs": [
    {
     "name": "stdout",
     "output_type": "stream",
     "text": [
      "ParallelCollectionRDD[7] at parallelize at PythonRDD.scala:195\n",
      "[1, 2, 3, 4]\n",
      "1\n",
      "2\n",
      "3\n",
      "4\n"
     ]
    }
   ],
   "source": [
    "# Membuat Collection RDD\n",
    "number = sc.parallelize([1,2,3,4])\n",
    "\n",
    "#kalau kita langsung print number, maka outputnya seperti baris pertama output\n",
    "print(number)\n",
    "\n",
    "#mengoutputkan number\n",
    "print(number.collect())\n",
    "\n",
    "#mengoutputkan number satu per satu\n",
    "for i in number.collect():\n",
    "    print(i)"
   ]
  },
  {
   "cell_type": "code",
   "execution_count": 11,
   "metadata": {},
   "outputs": [
    {
     "name": "stdout",
     "output_type": "stream",
     "text": [
      "Sebelum Mapping\n",
      "[1, 2, 3, 4]\n",
      "Ditambah Satu dengan Function\n",
      "[2, 3, 4, 5]\n",
      "Dikali 2 dengan Lambda Function\n",
      "[4, 6, 8, 10]\n"
     ]
    }
   ],
   "source": [
    "#Fungsi Map\n",
    "# Map Berfungsi untuk mengubah seluruh data yang ada dalam satu collection\n",
    "\n",
    "number = sc.parallelize([1,2,3,4])\n",
    "\n",
    "print(\"Sebelum Mapping\")\n",
    "print(number.collect())\n",
    "\n",
    "# Mapping\n",
    "# Ada 2 cara :\n",
    "# 1. Membuat Function Baru\n",
    "# 2. Lambda Function\n",
    "\n",
    "# Membuat Function Baru\n",
    "def addByOne(x):\n",
    "    return x + 1\n",
    "\n",
    "print(\"Ditambah Satu dengan Function\")\n",
    "number = number.map(addByOne)\n",
    "print(number.collect())\n",
    "\n",
    "# Dengan Lambda Function\n",
    "# Kita contohkan, kita mau mengkalikan semua datanya dengan 2\n",
    "number = number.map(lambda x : x * 2)\n",
    "print(\"Dikali 2 dengan Lambda Function\")\n",
    "print(number.collect())"
   ]
  },
  {
   "cell_type": "code",
   "execution_count": 15,
   "metadata": {},
   "outputs": [
    {
     "name": "stdout",
     "output_type": "stream",
     "text": [
      "[[1, 2, 3, 4], [5, 6, 7, 8]]\n",
      "[1, 2, 3, 4, 5, 6, 7, 8]\n"
     ]
    }
   ],
   "source": [
    "# Fungsi FlatMap\n",
    "\n",
    "# Fungsi FlatMap akan membuat semua array menjadi 1 array\n",
    "# Contoh\n",
    "\n",
    "# ada sebuah variable yang menyimpan array dalam array\n",
    "\n",
    "arr = sc.parallelize([[1,2,3,4],[5,6,7,8]])\n",
    "\n",
    "# Kalau Kita Map si Array, outputnya akan menunjukkan array dalam array\n",
    "print(arr.map(lambda x : x).collect())\n",
    "\n",
    "# Sekarang kita coba flatmap, dia akan menggabungkan semua array di dalamnya ke dalam 1 array\n",
    "print(arr.flatMap(lambda x : x).collect())"
   ]
  },
  {
   "cell_type": "code",
   "execution_count": 39,
   "metadata": {},
   "outputs": [
    {
     "name": "stdout",
     "output_type": "stream",
     "text": [
      "[('is', 7851), ('Etext', 4), ('presented', 11), ('Project', 13), ('Gutenberg,', 1)]\n"
     ]
    }
   ],
   "source": [
    "# Sekarang kita akan mengeread text dari words.txt\n",
    "\n",
    "#Read File\n",
    "words = sc.textFile(\"words.txt\")\n",
    "\n",
    "# Sekarang, kita ingin ngesplit kata\" tersebut 1 by 1,\n",
    "# Semua data yang sudah di split, dimasukkan ke dalam 1 array berdasarkan Line dari setiap text\n",
    "splitWords = words.map(lambda x : x.split(\" \"))\n",
    "\n",
    "# Jika kita ingin mengambil datanya sebanyak N data, maka kita perlu menggunakan function take(N)\n",
    "splitWords.take(5)\n",
    "\n",
    "\n",
    "# Kita Flattenkan semua datanya\n",
    "flattenWords = splitWords.flatMap(lambda x : x)\n",
    "\n",
    "\n",
    "# Kita Map Reduce\n",
    "mapped = flattenWords.map(lambda x : (x,1))  \n",
    "# Kodingan di atas akan membuat semua words menjadi sebuah tuple untuk di map reduce (kata, 1)\n",
    "# Untuk membuktikannya silahkan ketikkan mapped.collect()\n",
    "\n",
    "# Di sini kita bakal menampilkan semua word (secara distinct) dan total berapa kali nongol di words\n",
    "reduced = mapped.reduceByKey(lambda x, y : (x+y))\n",
    "print(reduced.take(5))"
   ]
  },
  {
   "cell_type": "raw",
   "metadata": {},
   "source": []
  },
  {
   "cell_type": "code",
   "execution_count": null,
   "metadata": {},
   "outputs": [],
   "source": []
  },
  {
   "cell_type": "code",
   "execution_count": null,
   "metadata": {},
   "outputs": [],
   "source": []
  },
  {
   "cell_type": "code",
   "execution_count": null,
   "metadata": {},
   "outputs": [],
   "source": []
  },
  {
   "cell_type": "code",
   "execution_count": null,
   "metadata": {},
   "outputs": [],
   "source": []
  },
  {
   "cell_type": "code",
   "execution_count": null,
   "metadata": {},
   "outputs": [],
   "source": []
  },
  {
   "cell_type": "code",
   "execution_count": null,
   "metadata": {},
   "outputs": [],
   "source": []
  }
 ],
 "metadata": {
  "kernelspec": {
   "display_name": "Python 3",
   "language": "python",
   "name": "python3"
  },
  "language_info": {
   "codemirror_mode": {
    "name": "ipython",
    "version": 3
   },
   "file_extension": ".py",
   "mimetype": "text/x-python",
   "name": "python",
   "nbconvert_exporter": "python",
   "pygments_lexer": "ipython3",
   "version": "3.7.4"
  }
 },
 "nbformat": 4,
 "nbformat_minor": 2
}
